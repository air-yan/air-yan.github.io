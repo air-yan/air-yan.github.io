{
 "cells": [
  {
   "cell_type": "code",
   "execution_count": 1,
   "metadata": {},
   "outputs": [],
   "source": [
    "# preparation for notebook\n",
    "import datetime\n",
    "import pandas as pd"
   ]
  },
  {
   "cell_type": "code",
   "execution_count": 2,
   "metadata": {},
   "outputs": [],
   "source": [
    "# read source dataset and convert it into a pandas dataframe\n",
    "\n",
    "source_df = pd.read_excel(io=\"Report.xlsx\",sheet_name=\"Assignment\")"
   ]
  },
  {
   "cell_type": "markdown",
   "metadata": {},
   "source": [
    "------------\n",
    "## This is my plan\n",
    "##### 1. Divide dataset by \"IC from subsidiary\"\n",
    "        Because we can only import advanced intercompany transaction one by one for each subsidiary\n",
    "##### 2. Create different dataframe for each subsidiary above\n",
    "        Each sub has one dataframe (one table or one csv file)\n",
    "##### 3. Sort dataframe by \"Report ID\" and then by \"To Subsidiary\".\n",
    "        Classify data by \"report ID\" and \"to subsidiary\".\n",
    "        Translate data into desired format:\n",
    "            for each line item we create two new line items in a new dataset, new lines follows different rules (in excel)\n",
    "            for each \"to ic sub\" in each \"report id\" we create two total rows\n",
    "            concatenate them vertically\n",
    "##### 4. save them as csvs\n",
    "        Each from sub has one csv\n",
    "-------------\n",
    "Below is the detailed steps for IC automation:"
   ]
  },
  {
   "cell_type": "code",
   "execution_count": 3,
   "metadata": {},
   "outputs": [],
   "source": [
    "# first of all, let's look into the details of the original dataframe\n",
    "# source_df.info()"
   ]
  },
  {
   "cell_type": "code",
   "execution_count": 4,
   "metadata": {
    "scrolled": true
   },
   "outputs": [],
   "source": [
    "# it seems we have some useless rows in the last part of the dataframe\n",
    "# we delete them and create a new dataframe\n",
    "\n",
    "cleaned_df = source_df[source_df[\"Type\"]\\\n",
    "          .isnull()\\\n",
    "          .apply(lambda x: True if x == False else False)]"
   ]
  },
  {
   "cell_type": "code",
   "execution_count": 5,
   "metadata": {},
   "outputs": [],
   "source": [
    "# you can double check the above dataframe here"
   ]
  },
  {
   "cell_type": "markdown",
   "metadata": {},
   "source": [
    "#### Divide the dataframe further and translate dataset into IC import format"
   ]
  },
  {
   "cell_type": "markdown",
   "metadata": {},
   "source": [
    "So we now have a dictionary saving all transactions that needs to be translated into 'IC import csv' format\n",
    "Now what we have to do is to create one csv for each key inside the dictionary - that's pretty easy to do but before that, we have to translate each dataframe into the desired format.\n",
    "\n",
    "For the translation, I just come up with an idea that we can divide the df multiple times, do the translation in the deepest level and then vertically concate dataframe together.\n",
    "\n",
    "Translation steps:\n",
    "1. divide df by report id\n",
    "2. divide df by to subsidiary\n",
    "3. so we have he lowest level of df and we:\n",
    "    1. translate each line into two different lines based on rules in the Excel\n",
    "    2. summarize two total rows\n",
    "4. concate them together...\n",
    "\n",
    "Because we already have a dictionary, we have to do these steps by looping through the dictionary:\n",
    "\n",
    "        for key in dic:\n",
    "        # translate \n",
    "        1. create a dic for report id (same steps as divide sub)\n",
    "        2. create another dic inside for \"to sub\" (same steps as divide sub)\n",
    "        3. translation steps for each \"to sub\" inside each \"report id\" inside each \"from sub\"\n",
    "        4. concate\n",
    "        5. save\n"
   ]
  },
  {
   "cell_type": "markdown",
   "metadata": {},
   "source": [
    "---------------\n",
    "Some preparations and references:"
   ]
  },
  {
   "cell_type": "code",
   "execution_count": 6,
   "metadata": {},
   "outputs": [],
   "source": [
    "# month for IC\n",
    "def IC_month(today):\n",
    "    if datetime.date.today().month == 1:\n",
    "        month = 12\n",
    "        year = today.year - 1\n",
    "    else:\n",
    "        month = today.month - 1\n",
    "        year = today.year\n",
    "    return datetime.date(year, month, today.day).strftime(\"%B %Y\")\n",
    "\n",
    "# subsidiary vlookup xD\n",
    "sub_mapping_ref = pd.DataFrame(data = {'Your Company, Inc.': ['Your Company, Inc.',  'US', '1501-01 Intercompany Receivable - Other : Intercompany Receivable - Other - from US', '2120-05 Intercompany Payable - Other : Intercompany Payable - Other - to US'], 'Your Company Public Sector, Inc.': ['Your Company, Inc. : Your Company Public Sector, Inc.',  'PS', '1501-11 Intercompany Receivable - Other : Intercompany Receivable - Other - from Public Sector', '2120-13 Intercompany Payable - Other : Intercompany Payable - Other - to Public Sector'], 'Your Company Singapore Pte. Ltd.': ['Your Company, Inc. : Your Company Singapore Pte. Ltd.',  'SG', '1501-06 Intercompany Receivable - Other : Intercompany Receivable - Other - from SG', '2120-09 Intercompany Payable - Other : Intercompany Payable - Other - to SG'], 'Your Company AU Pty Ltd.': ['Your Company, Inc. : Your Company HOLDING LIMITED : Your Company AU Pty Ltd.',  'AU', '1501-05 Intercompany Receivable - Other : Intercompany Receivable - Other - from AU', '2120-08 Intercompany Payable - Other : Intercompany Payable - Other - to AU'], 'Your Company Japan K.K.': ['Your Company, Inc. : Your Company Japan K.K.',  'JP', '1501-04 Intercompany Receivable - Other : Intercompany Receivable - Other - from JP', '2120-07 Intercompany Payable - Other : Intercompany Payable - Other - to JP'], 'Your Company Deutschland GmbH': ['Your Company, Inc. : Your Company Deutschland GmbH',  'DE', '1501-03 Intercompany Receivable - Other : Intercompany Receivable - Other - from DE', '2120-06 Intercompany Payable - Other : Intercompany Payable - Other - to DE'], 'Your Company Canada Ltd.': ['Your Company, Inc. : Your Company HOLDING LIMITED : Your Company Canada Ltd.',  'CA', '1501-08 Intercompany Receivable - Other : Intercompany Receivable - Other - from CA', '2120-10 Intercompany Payable - Other : Intercompany Payable - Other - to CA'], 'Your Company France': ['Your Company, Inc. : Your Company Deutschland GmbH : Your Company France',  'FR', '1501-10 Intercompany Receivable - Other : Intercompany Receivable - Other - from FR', '2120-12 Intercompany Payable - Other : Intercompany Payable - Other - to FR'], 'Your Company UK, Ltd.': ['Your Company, Inc. : Your Company HOLDING LIMITED : Your Company UK, Ltd.',  'UK', '1501-02 Intercompany Receivable - Other : Intercompany Receivable - Other - from UK', '2120-03 Intercompany Payable - Other : Intercompany Payable - Other - to UK'], 'Your Company Switzerland': ['Your Company, Inc. : Your Company Deutschland GmbH : Your Company Switzerland',  'SZ', '1501-16 Intercompany Receivable - Other : Intercompany Receivable - Other - from SZ', '2120-17 Intercompany Payable - Other : Intercompany Payable - Other - to SZ'], 'Your Company Benelux': ['Your Company, Inc. : Your Company Deutschland GmbH : Your Company Benelux',  'NL', '1501-14 Intercompany Receivable - Other : Intercompany Receivable - Other - from NL', '2120-15 Intercompany Payable - Other : Intercompany Payable - Other - to NL'], 'Your Company Sweden': ['Your Company, Inc. : Your Company Deutschland GmbH : Your Company Sweden',  'SW', '1501-12 Intercompany Receivable - Other : Intercompany Receivable - Other - from SW', '2120-14 Intercompany Payable - Other : Intercompany Payable - Other - to SW'], 'Your Company NZ Limited': ['Your Company, Inc. : Your Company HOLDING LIMITED : Your Company AU Pty Ltd. : Your Company NZ Limited',  'NZ', '1501-15 Intercompany Receivable - Other : Intercompany Receivable - Other - from NZ', '2120-16 Intercompany Payable - Other : Intercompany Payable - Other - to NZ'], 'Your Company South Africa': ['Your Company, Inc. : Your Company HOLDING LIMITED : Your Company UK, Ltd. : Your Company South Africa',  'SA', '1501-09 Intercompany Receivable - Other : Intercompany Receivable - Other - from SA', '2120-11 Intercompany Payable - Other : Intercompany Payable - Other - to SA']\n",
    "})"
   ]
  },
  {
   "cell_type": "code",
   "execution_count": 7,
   "metadata": {},
   "outputs": [
    {
     "data": {
      "text/html": [
       "<div>\n",
       "<style scoped>\n",
       "    .dataframe tbody tr th:only-of-type {\n",
       "        vertical-align: middle;\n",
       "    }\n",
       "\n",
       "    .dataframe tbody tr th {\n",
       "        vertical-align: top;\n",
       "    }\n",
       "\n",
       "    .dataframe thead th {\n",
       "        text-align: right;\n",
       "    }\n",
       "</style>\n",
       "<table border=\"1\" class=\"dataframe\">\n",
       "  <thead>\n",
       "    <tr style=\"text-align: right;\">\n",
       "      <th></th>\n",
       "      <th>Full Sub</th>\n",
       "      <th>Short Name</th>\n",
       "      <th>IC From</th>\n",
       "      <th>IC To</th>\n",
       "    </tr>\n",
       "  </thead>\n",
       "  <tbody>\n",
       "    <tr>\n",
       "      <th>Your Company, Inc.</th>\n",
       "      <td>Your Company, Inc.</td>\n",
       "      <td>US</td>\n",
       "      <td>1501-01 Intercompany Receivable - Other : Inte...</td>\n",
       "      <td>2120-05 Intercompany Payable - Other : Interco...</td>\n",
       "    </tr>\n",
       "  </tbody>\n",
       "</table>\n",
       "</div>"
      ],
      "text/plain": [
       "                              Full Sub Short Name  \\\n",
       "Your Company, Inc.  Your Company, Inc.         US   \n",
       "\n",
       "                                                              IC From  \\\n",
       "Your Company, Inc.  1501-01 Intercompany Receivable - Other : Inte...   \n",
       "\n",
       "                                                                IC To  \n",
       "Your Company, Inc.  2120-05 Intercompany Payable - Other : Interco...  "
      ]
     },
     "execution_count": 7,
     "metadata": {},
     "output_type": "execute_result"
    }
   ],
   "source": [
    "# building up mapping reference\n",
    "sub_mapping_df = sub_mapping_ref.transpose()\n",
    "sub_mapping_df.columns = ['Full Sub','Short Name', 'IC From', 'IC To']\n",
    "sub_mapping_df.head(1)"
   ]
  },
  {
   "cell_type": "markdown",
   "metadata": {},
   "source": [
    "--------------\n",
    "The core function for data translation:"
   ]
  },
  {
   "cell_type": "code",
   "execution_count": 8,
   "metadata": {},
   "outputs": [],
   "source": [
    "csv_columns = ['Line Subsidiary','Account','Debit','Credit','Memo']\n",
    "\n",
    "# THE! greatest function to translate transactions into IC format\n",
    "def translate_IC(test_df):\n",
    "    # create dataframes\n",
    "    df_from = pd.DataFrame()\n",
    "    df_to = pd.DataFrame()\n",
    "    df_from_total = pd.DataFrame()\n",
    "    df_to_total = pd.DataFrame()\n",
    "    \n",
    "    # lines for from subsidiary\n",
    "    df_from['Line Subsidiary'] = test_df['Subsidiary'].apply(lambda x: sub_mapping_df.loc[x,'Full Sub'])\n",
    "    df_from['Account'] = test_df['Account (Line): Name (GL-style)']\n",
    "    df_from['Debit'] = None\n",
    "    df_from['Credit'] = test_df['Amount (Foreign Currency)']\n",
    "    df_from['Memo'] = test_df['Memo']\n",
    "\n",
    "    # lines for to subsidiary\n",
    "    df_to['Line Subsidiary'] = test_df['IC Subsidiary'].apply(lambda x: sub_mapping_df.loc[x,'Full Sub'])\n",
    "    df_to['Account'] = test_df['Account (Line): Name (GL-style)']\n",
    "    df_to['Debit'] = test_df['Amount (Foreign Currency)']\n",
    "    df_to['Credit'] = None\n",
    "    df_to['Memo'] = test_df['Memo']\n",
    "\n",
    "    # total line for from subsidiary\n",
    "    df_from_total['Line Subsidiary'] = test_df['Subsidiary'].iloc[0:1].apply(lambda x: sub_mapping_df.loc[x,'Full Sub'])\n",
    "    df_from_total['Account'] = test_df['IC Subsidiary'].iloc[0:1].apply(lambda x: sub_mapping_df.loc[x,'IC From'])\n",
    "    df_from_total['Debit'] = round(df_from['Credit'].sum(),2)\n",
    "    df_from_total['Credit'] = None\n",
    "    df_from_total['Memo'] = 'Intercompany from {} to {} for {} in {}'\\\n",
    "    .format(test_df['Subsidiary'].iloc[0:1].apply(lambda x: sub_mapping_df.loc[x,'Short Name']).iloc[0]\\\n",
    "                                                  ,test_df['IC Subsidiary'].iloc[0:1].apply(lambda x: sub_mapping_df.loc[x,'Short Name']).iloc[0]\\\n",
    "                                                  ,test_df['Num'].iloc[0]\\\n",
    "                                                  ,IC_month(datetime.date.today()) )\n",
    "\n",
    "    # total line for to subsidiary\n",
    "    df_to_total['Line Subsidiary'] = test_df['IC Subsidiary'].iloc[0:1].apply(lambda x: sub_mapping_df.loc[x,'Full Sub'])\n",
    "    df_to_total['Account'] = test_df['Subsidiary'].iloc[0:1].apply(lambda x: sub_mapping_df.loc[x,'IC To'])\n",
    "    df_to_total['Debit'] = None\n",
    "    df_to_total['Credit'] = round(df_from['Credit'].sum(),2)\n",
    "    df_to_total['Memo'] = 'Intercompany from {} to {} for {} in {}'\\\n",
    "    .format(test_df['Subsidiary'].iloc[0:1].apply(lambda x: sub_mapping_df.loc[x,'Short Name']).iloc[0]\\\n",
    "                                                  ,test_df['IC Subsidiary'].iloc[0:1].apply(lambda x: sub_mapping_df.loc[x,'Short Name']).iloc[0]\\\n",
    "                                                  ,test_df['Num'].iloc[0]\\\n",
    "                                                  ,IC_month(datetime.date.today()) )\n",
    "\n",
    "    # append everything and return the greatest IC dataframe ever!\n",
    "    test = df_from_total.append(df_from, sort=True).append(df_to_total, sort=True).append(df_to, sort=True)\n",
    "    return test.loc[:,csv_columns]"
   ]
  },
  {
   "cell_type": "markdown",
   "metadata": {},
   "source": [
    "---------\n",
    "Creating dictionaries inside dictionaries. at the lowest level we have a translated dataframe:"
   ]
  },
  {
   "cell_type": "code",
   "execution_count": 9,
   "metadata": {},
   "outputs": [],
   "source": [
    "# Step 0: Dividing df by \"from subsidiary\" into a dictionary\n",
    "from_subsidiary = cleaned_df[\"Subsidiary\"].value_counts().index\n",
    "from_sub_dic = {}\n",
    "for sub in from_subsidiary:\n",
    "    sub_df = cleaned_df[cleaned_df[\"Subsidiary\"].apply(lambda x: True if x == sub else False)]\n",
    "    from_sub_dic[sub] = sub_df\n",
    "    \n",
    "\n",
    "# we are doing this inside the dictionary. so for loop:\n",
    "for from_sub_key in from_sub_dic:\n",
    "    # this is the dataframe for each \"from sub\"\n",
    "    from_sub_df = from_sub_dic[from_sub_key]\n",
    "    \n",
    "# Step 1: create a dic for report id (same steps as divide sub)\n",
    "    # create report id dictionary\n",
    "    report_id_dic = {}\n",
    "    report_id = from_sub_df['Num'].value_counts().index\n",
    "    \n",
    "    # report id loop inside from sub loop\n",
    "    for each_id in report_id:\n",
    "        report_id_df = from_sub_df[from_sub_df[\"Num\"]\n",
    "                                   .apply(lambda x: True if x == each_id else False)]\n",
    "        report_id_dic[each_id] = report_id_df\n",
    "        \n",
    "# Step 2: create another dic inside for \"to sub\" (same steps as divide sub)\n",
    "        # create to sub dictionary\n",
    "        to_sub_dic = {}\n",
    "        to_subsidiary = report_id_df[\"IC Subsidiary\"].value_counts().index\n",
    "        \n",
    "        # to sub loop inside report id loop inside from sub loop\n",
    "        for to_sub in to_subsidiary:\n",
    "            to_sub_df = report_id_df[report_id_df[\"IC Subsidiary\"]\n",
    "                                     .apply(lambda x: True if x == to_sub else False)]\n",
    "            \n",
    "            lowest_level_df = translate_IC(to_sub_df)\n",
    "            \n",
    "            to_sub_dic[to_sub] = lowest_level_df\n",
    "        # ------------------------------------------------------------------------------\n",
    "        # overwrite report id dataframe by to sub dictionary, so we have a dic inside a dic inside a dic\n",
    "        report_id_dic[each_id] = to_sub_dic\n",
    "            \n",
    "    # ------------------------------------------------------------------------------\n",
    "    # overwrite from sub dataframe by report id dictionary, so we have a dic inside a dic\n",
    "    from_sub_dic[from_sub_key] = report_id_dic"
   ]
  },
  {
   "cell_type": "markdown",
   "metadata": {},
   "source": [
    "---------\n",
    "We concate these dataframe and create csv files for each sub. Well done!"
   ]
  },
  {
   "cell_type": "code",
   "execution_count": 10,
   "metadata": {},
   "outputs": [
    {
     "name": "stdout",
     "output_type": "stream",
     "text": [
      "From sub: Your Company, Inc.\n",
      "     1B0611D056A043A5B543\n",
      "          To Sub: Your Company AU Pty Ltd.\n",
      "     3DDA0AA9D2E84B16AF24\n",
      "          To Sub: Your Company Public Sector, Inc.\n",
      "     501F4146E3B24FB3809F\n",
      "          To Sub: Your Company Public Sector, Inc.\n",
      "Advanced Intercompany from US to AU PS.csv\n",
      "----------------------------------------\n",
      "From sub: Your Company Public Sector, Inc.\n",
      "     BEDC9C0992EE4A69AA93\n",
      "          To Sub: Your Company Sweden\n",
      "          To Sub: Your Company, Inc.\n",
      "     AF736C0BD1DF47C0B38B\n",
      "          To Sub: Your Company, Inc.\n",
      "Advanced Intercompany from PS to SW US.csv\n",
      "----------------------------------------\n",
      "From sub: Your Company Benelux\n",
      "     42DBABDCCB9A4EBC9D96\n",
      "          To Sub: Your Company, Inc.\n",
      "Advanced Intercompany from NL to US.csv\n",
      "----------------------------------------\n",
      "From sub: Your Company France\n",
      "     6FEC2F91CAC64CC6B953\n",
      "          To Sub: Your Company Benelux\n",
      "     C8DA4AC02C67400C96DC\n",
      "          To Sub: Your Company Benelux\n",
      "Advanced Intercompany from FR to NL.csv\n",
      "----------------------------------------\n",
      "From sub: Your Company Deutschland GmbH\n",
      "     60D9CEFA361640CDBE01\n",
      "          To Sub: Your Company Switzerland\n",
      "Advanced Intercompany from DE to SZ.csv\n",
      "----------------------------------------\n"
     ]
    }
   ],
   "source": [
    "for i in from_sub_dic:\n",
    "    print('From sub: ' + i)\n",
    "    # create df for each from sub\n",
    "    sub_df = pd.DataFrame(columns = csv_columns)\n",
    "    to_sub_str = \"\"\n",
    "    to_sub_list = []\n",
    "    \n",
    "    for j in from_sub_dic[i]:\n",
    "        print(' '*5 + j)\n",
    "        \n",
    "        for k in from_sub_dic[i][j]:\n",
    "            if k not in to_sub_list:\n",
    "                to_sub_list.append(k) \n",
    "                to_sub_str += \" \" + sub_mapping_df.loc[k,'Short Name']\n",
    "            \n",
    "            print(' '*10 + 'To Sub: ' + k)\n",
    "            # append df\n",
    "            append_this_one = from_sub_dic[i][j][k]\n",
    "            sub_df = sub_df.append(append_this_one)\n",
    "#             print('test'+i,j,k)\n",
    "\n",
    "    # save csv for every sub\n",
    "    \n",
    "    sub_df.to_csv('Advanced Intercompany from ' + sub_mapping_df.loc[i,'Short Name'] +' to' + to_sub_str + '.csv' ,index = False)\n",
    "    print('Advanced Intercompany from ' + sub_mapping_df.loc[i,'Short Name'] +' to' + to_sub_str + '.csv')\n",
    "    print('-'*40)"
   ]
  },
  {
   "cell_type": "code",
   "execution_count": null,
   "metadata": {},
   "outputs": [],
   "source": []
  }
 ],
 "metadata": {
  "kernelspec": {
   "display_name": "Python 3",
   "language": "python",
   "name": "python3"
  },
  "language_info": {
   "codemirror_mode": {
    "name": "ipython",
    "version": 3
   },
   "file_extension": ".py",
   "mimetype": "text/x-python",
   "name": "python",
   "nbconvert_exporter": "python",
   "pygments_lexer": "ipython3",
   "version": "3.6.6"
  }
 },
 "nbformat": 4,
 "nbformat_minor": 2
}
